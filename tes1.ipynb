{
 "cells": [
  {
   "cell_type": "code",
   "execution_count": 2,
   "metadata": {},
   "outputs": [],
   "source": [
    "import PyPDF2\n",
    "import requests\n",
    "import json"
   ]
  },
  {
   "cell_type": "code",
   "execution_count": 3,
   "metadata": {},
   "outputs": [
    {
     "name": "stdout",
     "output_type": "stream",
     "text": [
      "Total Pages : 3 \n"
     ]
    }
   ],
   "source": [
    "fFileObj = open('Smith Resume.pdf', 'rb')\n",
    "pdfReader = PyPDF2.PdfFileReader(fFileObj)\n",
    "pageObj = pdfReader.getPage(0)\n",
    "print(\"Total Pages : {} \".format(pdfReader.numPages))\n"
   ]
  },
  {
   "cell_type": "code",
   "execution_count": 4,
   "metadata": {},
   "outputs": [],
   "source": [
    "resume = pageObj.extractText()\n",
    "url = \"https://api.iki.ai/api/skills_extraction/\"\n"
   ]
  },
  {
   "cell_type": "code",
   "execution_count": 5,
   "metadata": {},
   "outputs": [
    {
     "name": "stdout",
     "output_type": "stream",
     "text": [
      "Michael\n",
      " \n",
      "Smith\n",
      " \n",
      "BI / Big Data/ Azure\n",
      " \n",
      "Manchester\n",
      ", \n",
      "UK\n",
      "-\n",
      " \n",
      "Email me on Indeed:\n",
      " \n",
      "indeed.com/r/\n",
      "falice\n",
      "nt\n",
      "/140749dace5dc26f\n",
      " \n",
      " \n",
      "10+ years of Experience in Designing, Development, Administration, Analysis, \n",
      "Management inthe Business Intelligence Da\n",
      "ta warehousing, Client Server \n",
      "Technologies, Web\n",
      "-\n",
      "based Applications, cloud solutions and Databases.\n",
      " \n",
      "Data warehouse: Data analysis, star/ snow flake schema data modeling and design \n",
      "specific todata warehousing and business intelligence environment.\n",
      " \n",
      "Database: \n",
      "Experience in database designing, scalability, back\n",
      "-\n",
      "up and recovery, \n",
      "writing andoptimizing SQL code and Stored Procedures, creating functions, views, \n",
      "triggers and indexes. \n",
      " \n",
      "Cloud platform: Worked on Microsoft Azure cloud services like Document DB, SQL \n",
      "Azur\n",
      "e, StreamAnalytics, Event hub, Power BI, Web Job, Web App, Power BI, Azure \n",
      "data lake analytics(U\n",
      "-\n",
      "SQL).\n",
      " \n",
      "Big Data: Worked Azure data lake store/analytics for big data processing and Azure \n",
      "data factoryto schedule U\n",
      "-\n",
      "SQL jobs. Designed and developed end to end \n",
      "big data \n",
      "solution for data insights. \n",
      " \n",
      " \n",
      "Willing to relocate: Anywhere\n",
      " \n",
      "WORK EXPERIENCE\n",
      "Software Engineer\n",
      " \n",
      "Microsoft \n",
      "-\n",
      " \n",
      "Manchester\n",
      ", \n",
      "UK.\n",
      " \n",
      "December 2015 to Pre\n",
      "sent\n",
      " \n",
      "1. Microsoft Rewards Live dashboards:\n",
      " \n",
      "Description: \n",
      "-\n",
      " \n",
      "Microsoft rewards is loyalty program that rewards Users for \n",
      "browsing and shopping online. Microsoft Rewards members can earn points when \n",
      "searching with Bing, browsing with Microsoft Edge and making purchases at the \n",
      "Xbox Store, the Windows St\n",
      "ore and the Microsoft Store. Plus, user can pick up \n",
      "bonus points for taking daily quizzes and tours on the Microsoft rewards website. \n",
      "Rewards live dashboards gives a live picture of usage world\n",
      "-\n",
      "wide and by markets \n",
      "like US, Canada, Australia, new user regis\n",
      "tration count, top/bottom performing \n",
      "rewards offers, orders stats and weekly trends of user activities, orders and new \n",
      "user registrations. the PBI tiles gets refreshed in different frequencies starting \n",
      "from 5 seconds to 30 minutes.\n",
      " \n",
      "Technology/Tools used\n",
      " \n",
      "Ev\n",
      "ent hub, stream analytics and Power BI.\n",
      " \n",
      "Responsibilities\n",
      " \n",
      "Created stream analytics jobs to process event hub data\n",
      " \n",
      "Created Power BI live dashboard to show live usage traffic, weekly trends, cards, \n",
      "charts to showtop/bottom 10 offers and usage metrics.\n",
      " \n",
      "2. Micr\n",
      "osoft Rewards Data Insights:\n",
      " \n",
      "Description: \n",
      "-\n",
      " \n",
      "Microsoft rewards is loyalty program that rewards Users for \n",
      "browsing and shopping online. Microsoft Rewards members can earn points when \n",
      "searching with Bing, browsing with Microsoft Edge and making purchases at t\n",
      "he \n",
      "Xbox Store, the Windows Store and the Microsoft Store. Plus, user can pick up \n",
      "bonus points for taking daily quizzes and tours on the Microsoft rewards website. \n",
      "Rewards data insights is data analytics and reporting platform, processes 20 \n",
      "million users da\n",
      "ily activities and redemption across different markets like US, \n",
      "Canada, Australia.\n",
      " \n",
      "Technology/Tools used\n",
      " \n",
      "Cosmos (Microsoft big\n",
      "-\n",
      "data platform), c#, X\n",
      "-\n",
      "flow job monitoring, Power BI.\n",
      " \n",
      "Responsibilities\n",
      " \n",
      "\n"
     ]
    }
   ],
   "source": [
    "payload = {\n",
    "    \"text\": str(resume[0:2000])\n",
    "}\n",
    "\n",
    "\n",
    "headers = {\n",
    "    'Content-Type': 'application/json'\n",
    "}\n",
    "\n",
    "\n",
    "# print(len(resume))\n",
    "\n",
    "print(resume)\n"
   ]
  },
  {
   "cell_type": "code",
   "execution_count": 6,
   "metadata": {},
   "outputs": [
    {
     "ename": "SyntaxError",
     "evalue": "invalid non-printable character U+200B (Temp/ipykernel_7544/3242850211.py, line 1)",
     "output_type": "error",
     "traceback": [
      "\u001b[1;36m  File \u001b[1;32m\"C:\\Users\\ASUS\\AppData\\Local\\Temp/ipykernel_7544/3242850211.py\"\u001b[1;36m, line \u001b[1;32m1\u001b[0m\n\u001b[1;33m    r = requests.post(url=url, headers=headers, data​=json.dumps(payload))\u001b[0m\n\u001b[1;37m                                                    ^\u001b[0m\n\u001b[1;31mSyntaxError\u001b[0m\u001b[1;31m:\u001b[0m invalid non-printable character U+200B\n"
     ]
    }
   ],
   "source": [
    "r = requests.post(url=url, headers=headers, data​=json.dumps(payload))\n",
    "print(r.json())\n"
   ]
  }
 ],
 "metadata": {
  "interpreter": {
   "hash": "bfaf5a22daad86532be67b1c88c108611f1a88c2ea26ad3a5feab324a98d7cf8"
  },
  "kernelspec": {
   "display_name": "Python 3.9.9 64-bit ('nlp': venv)",
   "language": "python",
   "name": "python3"
  },
  "language_info": {
   "codemirror_mode": {
    "name": "ipython",
    "version": 3
   },
   "file_extension": ".py",
   "mimetype": "text/x-python",
   "name": "python",
   "nbconvert_exporter": "python",
   "pygments_lexer": "ipython3",
   "version": "3.9.9"
  },
  "orig_nbformat": 4
 },
 "nbformat": 4,
 "nbformat_minor": 2
}
